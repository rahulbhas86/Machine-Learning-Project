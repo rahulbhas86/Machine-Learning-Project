{
 "cells": [
  {
   "cell_type": "code",
   "execution_count": 1,
   "metadata": {},
   "outputs": [],
   "source": [
    "import requests\n",
    "from bs4 import BeautifulSoup\n",
    "import re\n",
    "import pandas as pd\n",
    "from time import time\n",
    "from time import sleep\n",
    "from random import randint"
   ]
  },
  {
   "cell_type": "markdown",
   "metadata": {},
   "source": [
    "**Africa**"
   ]
  },
  {
   "cell_type": "code",
   "execution_count": 2,
   "metadata": {},
   "outputs": [],
   "source": [
    "response1 = requests.get(\"https://www.internetworldstats.com/africa.htm\")\n",
    "soup = BeautifulSoup(response1.content,'html.parser')"
   ]
  },
  {
   "cell_type": "code",
   "execution_count": 3,
   "metadata": {},
   "outputs": [],
   "source": [
    "urls = []\n",
    "\n",
    "for h in soup.find_all('tr'):\n",
    "    urls.append(h.find_all('a'))"
   ]
  },
  {
   "cell_type": "code",
   "execution_count": 4,
   "metadata": {},
   "outputs": [
    {
     "data": {
      "text/plain": [
       "796"
      ]
     },
     "execution_count": 4,
     "metadata": {},
     "output_type": "execute_result"
    }
   ],
   "source": [
    "len(urls)"
   ]
  },
  {
   "cell_type": "code",
   "execution_count": 5,
   "metadata": {},
   "outputs": [],
   "source": [
    "str_w = urls[4][2:66]"
   ]
  },
  {
   "cell_type": "code",
   "execution_count": 6,
   "metadata": {},
   "outputs": [],
   "source": [
    "country = []\n",
    "\n",
    "for e in str_w:\n",
    "    country.append(str(e).split('>')[2])   "
   ]
  },
  {
   "cell_type": "code",
   "execution_count": 7,
   "metadata": {},
   "outputs": [],
   "source": [
    "a = country.pop(7)"
   ]
  },
  {
   "cell_type": "code",
   "execution_count": 8,
   "metadata": {},
   "outputs": [],
   "source": [
    "aa = country.pop(8)"
   ]
  },
  {
   "cell_type": "code",
   "execution_count": 9,
   "metadata": {},
   "outputs": [],
   "source": [
    "b = country.pop(12)"
   ]
  },
  {
   "cell_type": "code",
   "execution_count": 10,
   "metadata": {},
   "outputs": [],
   "source": [
    "c = country.pop(16)"
   ]
  },
  {
   "cell_type": "code",
   "execution_count": 11,
   "metadata": {},
   "outputs": [],
   "source": [
    "d = country.pop(24)"
   ]
  },
  {
   "cell_type": "code",
   "execution_count": 12,
   "metadata": {},
   "outputs": [],
   "source": [
    "e = country.pop(-14)"
   ]
  },
  {
   "cell_type": "code",
   "execution_count": 13,
   "metadata": {},
   "outputs": [],
   "source": [
    "f = country.pop(-14)"
   ]
  },
  {
   "cell_type": "code",
   "execution_count": 14,
   "metadata": {},
   "outputs": [],
   "source": [
    "g = country.pop(-16)"
   ]
  },
  {
   "cell_type": "code",
   "execution_count": 15,
   "metadata": {},
   "outputs": [
    {
     "data": {
      "text/plain": [
       "56"
      ]
     },
     "execution_count": 15,
     "metadata": {},
     "output_type": "execute_result"
    }
   ],
   "source": [
    "len(country)"
   ]
  },
  {
   "cell_type": "code",
   "execution_count": 16,
   "metadata": {},
   "outputs": [],
   "source": [
    "country.insert(-2,'Western Sahara')\n",
    "country.insert(6,'Cabo Verde')"
   ]
  },
  {
   "cell_type": "code",
   "execution_count": 17,
   "metadata": {},
   "outputs": [],
   "source": [
    "cap = soup.find_all(text= re.compile(\"^Capital\"))\n",
    "abrv_counarea = list(soup.find_all(text=lambda text: text and \"Area\" in text))\n",
    "abrv_counarea = abrv_counarea[1:]"
   ]
  },
  {
   "cell_type": "code",
   "execution_count": 18,
   "metadata": {},
   "outputs": [],
   "source": [
    "inter_1 = list(soup.find_all(text=lambda text: text and \"Internet users in Dec\" in text))"
   ]
  },
  {
   "cell_type": "code",
   "execution_count": 19,
   "metadata": {},
   "outputs": [],
   "source": [
    "benin = soup.find_all(text=lambda text: text and \"internet users in Dec\"  in text)"
   ]
  },
  {
   "cell_type": "code",
   "execution_count": 20,
   "metadata": {},
   "outputs": [
    {
     "data": {
      "text/plain": [
       "\"'3,801,758 internet users in Dec/2018, 32.2% of the\\\\r\\\\n population, per IWS.'\""
      ]
     },
     "execution_count": 20,
     "metadata": {},
     "output_type": "execute_result"
    }
   ],
   "source": [
    "str(benin).strip('[]')"
   ]
  },
  {
   "cell_type": "code",
   "execution_count": 21,
   "metadata": {},
   "outputs": [],
   "source": [
    "togo = list(soup.find_all(text=lambda text: text and \"Internet users in Mar\"  in text))"
   ]
  },
  {
   "cell_type": "code",
   "execution_count": 22,
   "metadata": {},
   "outputs": [
    {
     "data": {
      "text/plain": [
       "\"'3,687,036 Internet users in March/2019, 45.0% of the\\\\r\\\\n population, per IWS.'\""
      ]
     },
     "execution_count": 22,
     "metadata": {},
     "output_type": "execute_result"
    }
   ],
   "source": [
    "str(togo).strip('[]')"
   ]
  },
  {
   "cell_type": "code",
   "execution_count": 23,
   "metadata": {},
   "outputs": [],
   "source": [
    "inter_1.insert(2,'3,801,758 internet users in Dec/2018, 32.2% of the\\\\r\\\\n population, per IWS.')\n",
    "inter_1.insert(-5,'3,687,036 Internet users in March/2019, 45.0% of the\\\\r\\\\n population, per IWS.')"
   ]
  },
  {
   "cell_type": "code",
   "execution_count": 24,
   "metadata": {},
   "outputs": [],
   "source": [
    "face = list(soup.find_all(text=lambda text: text and \"Facebook\" in text))"
   ]
  },
  {
   "cell_type": "code",
   "execution_count": 25,
   "metadata": {},
   "outputs": [
    {
     "data": {
      "text/plain": [
       "60"
      ]
     },
     "execution_count": 25,
     "metadata": {},
     "output_type": "execute_result"
    }
   ],
   "source": [
    "len(face)"
   ]
  },
  {
   "cell_type": "code",
   "execution_count": 26,
   "metadata": {},
   "outputs": [],
   "source": [
    "face_1 = face.pop(0)\n",
    "face_last = face.pop()"
   ]
  },
  {
   "cell_type": "code",
   "execution_count": 27,
   "metadata": {},
   "outputs": [],
   "source": [
    "africa_stats = pd.DataFrame({'country':country,'cap':cap,'abrv':abrv_counarea,'face':face,'internet':inter_1})"
   ]
  },
  {
   "cell_type": "code",
   "execution_count": 28,
   "metadata": {},
   "outputs": [
    {
     "data": {
      "text/plain": [
       "(58, 5)"
      ]
     },
     "execution_count": 28,
     "metadata": {},
     "output_type": "execute_result"
    }
   ],
   "source": [
    "africa_stats.shape"
   ]
  },
  {
   "cell_type": "code",
   "execution_count": 29,
   "metadata": {},
   "outputs": [],
   "source": [
    "africa_stats['Country'] = africa_stats['country'].str.split('<').str[0]"
   ]
  },
  {
   "cell_type": "code",
   "execution_count": 30,
   "metadata": {},
   "outputs": [],
   "source": [
    "africa_stats['Country'] = africa_stats['Country'].str.replace('\\r\\n','')"
   ]
  },
  {
   "cell_type": "code",
   "execution_count": 31,
   "metadata": {},
   "outputs": [],
   "source": [
    "africa_stats['Country'][16] = 'Equatorial Guinea'"
   ]
  },
  {
   "cell_type": "code",
   "execution_count": 32,
   "metadata": {},
   "outputs": [],
   "source": [
    "africa_stats['Country'][24] = 'Guinea Bissau'"
   ]
  },
  {
   "cell_type": "code",
   "execution_count": 33,
   "metadata": {},
   "outputs": [],
   "source": [
    "africa_stats['Capital'] = africa_stats['cap'].str.split().str[2]"
   ]
  },
  {
   "cell_type": "code",
   "execution_count": 34,
   "metadata": {},
   "outputs": [],
   "source": [
    "africa_stats['Abrv'] = africa_stats['abrv'].str.split().str[0]\n",
    "africa_stats['Population'] = africa_stats['abrv'].str.split().str[2]\n",
    "africa_stats['Facebook_users'] = africa_stats['face'].str.split().str[0]"
   ]
  },
  {
   "cell_type": "code",
   "execution_count": 35,
   "metadata": {},
   "outputs": [],
   "source": [
    "africa_stats['Internet_users'] = africa_stats['internet'].str.split().str[0]"
   ]
  },
  {
   "cell_type": "code",
   "execution_count": 36,
   "metadata": {},
   "outputs": [],
   "source": [
    "africa_stats['Internet_users'] = africa_stats['Internet_users'].str.replace(',','').astype(int)"
   ]
  },
  {
   "cell_type": "code",
   "execution_count": 37,
   "metadata": {},
   "outputs": [],
   "source": [
    "africa_stats['Facebook_users'] = africa_stats['Facebook_users'].str.replace(',','').astype(int)"
   ]
  },
  {
   "cell_type": "code",
   "execution_count": 38,
   "metadata": {},
   "outputs": [],
   "source": [
    "africa_stats['Population'] = africa_stats['Population'].str.replace(',','').astype(int)"
   ]
  },
  {
   "cell_type": "code",
   "execution_count": 39,
   "metadata": {},
   "outputs": [],
   "source": [
    "africa_stats = africa_stats.drop(['cap','country','abrv','face','internet'],axis=1)\n"
   ]
  },
  {
   "cell_type": "code",
   "execution_count": 40,
   "metadata": {},
   "outputs": [],
   "source": [
    "africa_stats.to_csv('M:/africa_stats.csv',index=None)"
   ]
  },
  {
   "cell_type": "markdown",
   "metadata": {},
   "source": [
    "**America**"
   ]
  },
  {
   "cell_type": "code",
   "execution_count": 41,
   "metadata": {},
   "outputs": [],
   "source": [
    "response1 = requests.get(\"https://www.internetworldstats.com/america.htm\")\n",
    "soup = BeautifulSoup(response1.content,'html.parser')"
   ]
  },
  {
   "cell_type": "code",
   "execution_count": 42,
   "metadata": {},
   "outputs": [],
   "source": [
    "urls = []\n",
    "\n",
    "for h in soup.find_all('tr'):\n",
    "    urls.append(h.find_all('a'))"
   ]
  },
  {
   "cell_type": "code",
   "execution_count": 43,
   "metadata": {},
   "outputs": [],
   "source": [
    "str_w = urls[3][7:13]"
   ]
  },
  {
   "cell_type": "code",
   "execution_count": 44,
   "metadata": {},
   "outputs": [],
   "source": [
    "country = []\n",
    "\n",
    "for e in str_w:\n",
    "    country.append(str(e).split('>')[2])   "
   ]
  },
  {
   "cell_type": "code",
   "execution_count": 45,
   "metadata": {},
   "outputs": [],
   "source": [
    "a = country.pop(3)"
   ]
  },
  {
   "cell_type": "code",
   "execution_count": 46,
   "metadata": {},
   "outputs": [
    {
     "data": {
      "text/plain": [
       "['Bermuda</font',\n",
       " 'Canada</font',\n",
       " 'Greenland</font',\n",
       " 'Saint Pierre<br/',\n",
       " 'United States<br/']"
      ]
     },
     "execution_count": 46,
     "metadata": {},
     "output_type": "execute_result"
    }
   ],
   "source": [
    "country"
   ]
  },
  {
   "cell_type": "code",
   "execution_count": 47,
   "metadata": {},
   "outputs": [],
   "source": [
    "abrv_counarea = list(soup.find_all(text=lambda text: text and \"Area\" in text))"
   ]
  },
  {
   "cell_type": "code",
   "execution_count": 48,
   "metadata": {},
   "outputs": [],
   "source": [
    "cap = soup.find_all(text= re.compile(\"^Capital\"))"
   ]
  },
  {
   "cell_type": "code",
   "execution_count": 49,
   "metadata": {},
   "outputs": [],
   "source": [
    "inter_1 = list(soup.find_all(text=lambda text: text and \"Internet users in Dec\" in text))"
   ]
  },
  {
   "cell_type": "code",
   "execution_count": 50,
   "metadata": {},
   "outputs": [],
   "source": [
    "face = list(soup.find_all(text=lambda text: text and \"Facebook\" in text))"
   ]
  },
  {
   "cell_type": "code",
   "execution_count": 51,
   "metadata": {},
   "outputs": [],
   "source": [
    "face = face[2:7]"
   ]
  },
  {
   "cell_type": "code",
   "execution_count": 52,
   "metadata": {},
   "outputs": [],
   "source": [
    "america_stats = pd.DataFrame({'country':country,'cap':cap,'abrv':abrv_counarea,'face':face,'internet':inter_1})"
   ]
  },
  {
   "cell_type": "code",
   "execution_count": 53,
   "metadata": {},
   "outputs": [],
   "source": [
    "america_stats['Country'] = america_stats['country'].str.split('<').str[0]"
   ]
  },
  {
   "cell_type": "code",
   "execution_count": 54,
   "metadata": {},
   "outputs": [],
   "source": [
    "america_stats['Capital'] = america_stats['cap'].str.split().str[2]"
   ]
  },
  {
   "cell_type": "code",
   "execution_count": 55,
   "metadata": {},
   "outputs": [],
   "source": [
    "america_stats['Capital'][4]  = 'Washington D.C'"
   ]
  },
  {
   "cell_type": "code",
   "execution_count": 56,
   "metadata": {},
   "outputs": [],
   "source": [
    "america_stats['Abrv'] = america_stats['abrv'].str.split().str[0]\n",
    "america_stats['Population'] = america_stats['abrv'].str.split().str[2]\n",
    "america_stats['Facebook_users'] = america_stats['face'].str.split().str[0]"
   ]
  },
  {
   "cell_type": "code",
   "execution_count": 57,
   "metadata": {},
   "outputs": [],
   "source": [
    "america_stats['Internet_users'] = america_stats['internet'].str.split().str[0]"
   ]
  },
  {
   "cell_type": "code",
   "execution_count": 58,
   "metadata": {},
   "outputs": [],
   "source": [
    "america_stats['Internet_users'] =america_stats['Internet_users'].str.replace(',','').astype(int)"
   ]
  },
  {
   "cell_type": "code",
   "execution_count": 59,
   "metadata": {},
   "outputs": [],
   "source": [
    "america_stats['Facebook_users'] = america_stats['Facebook_users'].str.replace(',','').astype(int)"
   ]
  },
  {
   "cell_type": "code",
   "execution_count": 60,
   "metadata": {},
   "outputs": [],
   "source": [
    "america_stats['Population'] = america_stats['Population'].str.replace(',','').astype(int)"
   ]
  },
  {
   "cell_type": "code",
   "execution_count": 61,
   "metadata": {},
   "outputs": [],
   "source": [
    "america_stats = america_stats.drop(['cap','country','abrv','face','internet'],axis=1)\n"
   ]
  },
  {
   "cell_type": "code",
   "execution_count": 62,
   "metadata": {},
   "outputs": [
    {
     "data": {
      "text/html": [
       "<div>\n",
       "<style scoped>\n",
       "    .dataframe tbody tr th:only-of-type {\n",
       "        vertical-align: middle;\n",
       "    }\n",
       "\n",
       "    .dataframe tbody tr th {\n",
       "        vertical-align: top;\n",
       "    }\n",
       "\n",
       "    .dataframe thead th {\n",
       "        text-align: right;\n",
       "    }\n",
       "</style>\n",
       "<table border=\"1\" class=\"dataframe\">\n",
       "  <thead>\n",
       "    <tr style=\"text-align: right;\">\n",
       "      <th></th>\n",
       "      <th>Country</th>\n",
       "      <th>Capital</th>\n",
       "      <th>Abrv</th>\n",
       "      <th>Population</th>\n",
       "      <th>Facebook_users</th>\n",
       "      <th>Internet_users</th>\n",
       "    </tr>\n",
       "  </thead>\n",
       "  <tbody>\n",
       "    <tr>\n",
       "      <th>0</th>\n",
       "      <td>Bermuda</td>\n",
       "      <td>Hamilton</td>\n",
       "      <td>BM</td>\n",
       "      <td>60833</td>\n",
       "      <td>39000</td>\n",
       "      <td>60342</td>\n",
       "    </tr>\n",
       "    <tr>\n",
       "      <th>1</th>\n",
       "      <td>Canada</td>\n",
       "      <td>Ottawa</td>\n",
       "      <td>CA</td>\n",
       "      <td>37279811</td>\n",
       "      <td>23000000</td>\n",
       "      <td>34558385</td>\n",
       "    </tr>\n",
       "    <tr>\n",
       "      <th>2</th>\n",
       "      <td>Greenland</td>\n",
       "      <td>Nuuk</td>\n",
       "      <td>GL</td>\n",
       "      <td>56673</td>\n",
       "      <td>38000</td>\n",
       "      <td>52000</td>\n",
       "    </tr>\n",
       "    <tr>\n",
       "      <th>3</th>\n",
       "      <td>Saint Pierre</td>\n",
       "      <td>Saint-Pierre</td>\n",
       "      <td>PM</td>\n",
       "      <td>6375</td>\n",
       "      <td>3100</td>\n",
       "      <td>5033</td>\n",
       "    </tr>\n",
       "    <tr>\n",
       "      <th>4</th>\n",
       "      <td>United States</td>\n",
       "      <td>Washington D.C</td>\n",
       "      <td>US</td>\n",
       "      <td>329093110</td>\n",
       "      <td>240000000</td>\n",
       "      <td>292892868</td>\n",
       "    </tr>\n",
       "  </tbody>\n",
       "</table>\n",
       "</div>"
      ],
      "text/plain": [
       "         Country         Capital Abrv  Population  Facebook_users  \\\n",
       "0        Bermuda        Hamilton   BM       60833           39000   \n",
       "1         Canada          Ottawa   CA    37279811        23000000   \n",
       "2      Greenland            Nuuk   GL       56673           38000   \n",
       "3   Saint Pierre    Saint-Pierre   PM        6375            3100   \n",
       "4  United States  Washington D.C   US   329093110       240000000   \n",
       "\n",
       "   Internet_users  \n",
       "0           60342  \n",
       "1        34558385  \n",
       "2           52000  \n",
       "3            5033  \n",
       "4       292892868  "
      ]
     },
     "execution_count": 62,
     "metadata": {},
     "output_type": "execute_result"
    }
   ],
   "source": [
    "america_stats"
   ]
  },
  {
   "cell_type": "code",
   "execution_count": 63,
   "metadata": {},
   "outputs": [],
   "source": [
    "america_stats.to_csv('M:/america_stats.csv',index=None)"
   ]
  },
  {
   "cell_type": "markdown",
   "metadata": {},
   "source": [
    "**Central America**"
   ]
  },
  {
   "cell_type": "code",
   "execution_count": 64,
   "metadata": {},
   "outputs": [],
   "source": [
    "response1 = requests.get(\"https://www.internetworldstats.com/central.htm\")\n",
    "soup = BeautifulSoup(response1.content,'html.parser')"
   ]
  },
  {
   "cell_type": "code",
   "execution_count": 65,
   "metadata": {},
   "outputs": [],
   "source": [
    "urls = []\n",
    "\n",
    "for h in soup.find_all('tr'):\n",
    "    urls.append(h.find_all('a'))"
   ]
  },
  {
   "cell_type": "code",
   "execution_count": 66,
   "metadata": {},
   "outputs": [],
   "source": [
    "str_w = urls[4][3:11]"
   ]
  },
  {
   "cell_type": "code",
   "execution_count": 67,
   "metadata": {},
   "outputs": [],
   "source": [
    "country = []\n",
    "\n",
    "for e in str_w:\n",
    "    country.append(str(e).split('>')[2])   "
   ]
  },
  {
   "cell_type": "code",
   "execution_count": 68,
   "metadata": {},
   "outputs": [],
   "source": [
    "abrv_counarea = list(soup.find_all(text=lambda text: text and \"Country\" in text))"
   ]
  },
  {
   "cell_type": "code",
   "execution_count": 69,
   "metadata": {},
   "outputs": [],
   "source": [
    "abrv_counarea = abrv_counarea[0:7]"
   ]
  },
  {
   "cell_type": "code",
   "execution_count": 70,
   "metadata": {},
   "outputs": [],
   "source": [
    "beniz = list(soup.find_all(text=lambda text: text and \"Territory\" in text))"
   ]
  },
  {
   "cell_type": "code",
   "execution_count": 71,
   "metadata": {},
   "outputs": [
    {
     "data": {
      "text/plain": [
       "\"'BZ - 382,444 population (2018) - Territory Size: 22,966 sq\\\\r\\\\nkm'\""
      ]
     },
     "execution_count": 71,
     "metadata": {},
     "output_type": "execute_result"
    }
   ],
   "source": [
    "str(beniz).strip('[]')"
   ]
  },
  {
   "cell_type": "code",
   "execution_count": 72,
   "metadata": {},
   "outputs": [],
   "source": [
    "abrv_counarea.insert(0,'BZ - 382,444 population (2018) - Territory Size: 22,966 sq\\\\r\\\\nkm')"
   ]
  },
  {
   "cell_type": "code",
   "execution_count": 73,
   "metadata": {},
   "outputs": [],
   "source": [
    "cap = soup.find_all(text= re.compile(\"^Capital\"))"
   ]
  },
  {
   "cell_type": "code",
   "execution_count": 74,
   "metadata": {},
   "outputs": [],
   "source": [
    "inter_1 = list(soup.find_all(text=lambda text: text and \"Internet users in Dec\" in text))"
   ]
  },
  {
   "cell_type": "code",
   "execution_count": 75,
   "metadata": {},
   "outputs": [],
   "source": [
    "inter_1 = inter_1[1:]"
   ]
  },
  {
   "cell_type": "code",
   "execution_count": 76,
   "metadata": {},
   "outputs": [],
   "source": [
    "costa_rica = list(soup.find_all(text=lambda text: text and \"Internet subscribers in Dec\" in text))"
   ]
  },
  {
   "cell_type": "code",
   "execution_count": 77,
   "metadata": {},
   "outputs": [
    {
     "data": {
      "text/plain": [
       "\"'4,296,443 Internet subscribers in Dec/17, 86.7%\\\\r\\\\n penetration, per SUTEL.'\""
      ]
     },
     "execution_count": 77,
     "metadata": {},
     "output_type": "execute_result"
    }
   ],
   "source": [
    "str(costa_rica).strip('[]')"
   ]
  },
  {
   "cell_type": "code",
   "execution_count": 78,
   "metadata": {},
   "outputs": [],
   "source": [
    "inter_1.insert(1,'4,296,443 Internet subscribers in Dec/17, 86.7%\\\\r\\\\n penetration, per SUTEL.')"
   ]
  },
  {
   "cell_type": "code",
   "execution_count": 79,
   "metadata": {},
   "outputs": [],
   "source": [
    "face = list(soup.find_all(text=lambda text: text and \"Facebook\" in text))"
   ]
  },
  {
   "cell_type": "code",
   "execution_count": 80,
   "metadata": {},
   "outputs": [],
   "source": [
    "face = face[2:10]"
   ]
  },
  {
   "cell_type": "code",
   "execution_count": 81,
   "metadata": {},
   "outputs": [],
   "source": [
    "cen_america_stats = pd.DataFrame({'country':country,'cap':cap,'abrv':abrv_counarea,'face':face,'internet':inter_1})"
   ]
  },
  {
   "cell_type": "code",
   "execution_count": 82,
   "metadata": {},
   "outputs": [],
   "source": [
    "cen_america_stats['Country'] = cen_america_stats['country'].str.split('<').str[0]"
   ]
  },
  {
   "cell_type": "code",
   "execution_count": 83,
   "metadata": {},
   "outputs": [],
   "source": [
    "cen_america_stats['Country'] = cen_america_stats['Country'].str.replace('\\r\\n',' ')"
   ]
  },
  {
   "cell_type": "code",
   "execution_count": 84,
   "metadata": {},
   "outputs": [],
   "source": [
    "cen_america_stats['Capital'] = cen_america_stats['cap'].str.split().str[2]"
   ]
  },
  {
   "cell_type": "code",
   "execution_count": 85,
   "metadata": {},
   "outputs": [],
   "source": [
    "cen_america_stats['Capital'][1] = 'San Jose'\n",
    "cen_america_stats['Capital'][2] = 'Salvador'\n",
    "cen_america_stats['Capital'][5] = 'Mexico City'"
   ]
  },
  {
   "cell_type": "code",
   "execution_count": 86,
   "metadata": {},
   "outputs": [],
   "source": [
    "cen_america_stats['Abrv'] = cen_america_stats['abrv'].str.split().str[0]\n",
    "cen_america_stats['Population'] = cen_america_stats['abrv'].str.split().str[2]\n",
    "cen_america_stats['Facebook_users'] = cen_america_stats['face'].str.split().str[0]"
   ]
  },
  {
   "cell_type": "code",
   "execution_count": 87,
   "metadata": {},
   "outputs": [],
   "source": [
    "cen_america_stats['Internet_users'] = cen_america_stats['internet'].str.split().str[0]"
   ]
  },
  {
   "cell_type": "code",
   "execution_count": 88,
   "metadata": {},
   "outputs": [],
   "source": [
    "cen_america_stats['Internet_users'] = cen_america_stats['Internet_users'].str.replace(',','').astype(int)"
   ]
  },
  {
   "cell_type": "code",
   "execution_count": 89,
   "metadata": {},
   "outputs": [],
   "source": [
    "cen_america_stats['Facebook_users'] = cen_america_stats['Facebook_users'].str.replace(',','').astype(int)"
   ]
  },
  {
   "cell_type": "code",
   "execution_count": 90,
   "metadata": {},
   "outputs": [],
   "source": [
    "cen_america_stats['Population'] = cen_america_stats['Population'].str.replace(',','').astype(int)"
   ]
  },
  {
   "cell_type": "code",
   "execution_count": 91,
   "metadata": {},
   "outputs": [],
   "source": [
    "cen_america_stats = cen_america_stats.drop(['cap','country','abrv','face','internet'],axis=1)\n"
   ]
  },
  {
   "cell_type": "code",
   "execution_count": 92,
   "metadata": {},
   "outputs": [],
   "source": [
    "cen_america_stats.to_csv('M:/cen_america_stats.csv',index=None)"
   ]
  },
  {
   "cell_type": "markdown",
   "metadata": {},
   "source": [
    "**Caribbean**"
   ]
  },
  {
   "cell_type": "code",
   "execution_count": 93,
   "metadata": {},
   "outputs": [],
   "source": [
    "response1 = requests.get(\"https://www.internetworldstats.com/carib.htm\")\n",
    "soup = BeautifulSoup(response1.content,'html.parser')"
   ]
  },
  {
   "cell_type": "code",
   "execution_count": 94,
   "metadata": {},
   "outputs": [],
   "source": [
    "urls = []\n",
    "\n",
    "for h in soup.find_all('tr'):\n",
    "    urls.append(h.find_all('a'))"
   ]
  },
  {
   "cell_type": "code",
   "execution_count": 95,
   "metadata": {},
   "outputs": [],
   "source": [
    "str_w = urls[4][4:32]"
   ]
  },
  {
   "cell_type": "code",
   "execution_count": 96,
   "metadata": {},
   "outputs": [],
   "source": [
    "country = []\n",
    "\n",
    "for e in str_w:\n",
    "    country.append(str(e).split('>')[2])   "
   ]
  },
  {
   "cell_type": "code",
   "execution_count": 97,
   "metadata": {},
   "outputs": [],
   "source": [
    "a = country.pop(5)"
   ]
  },
  {
   "cell_type": "code",
   "execution_count": 98,
   "metadata": {},
   "outputs": [],
   "source": [
    "b = country.pop(11)"
   ]
  },
  {
   "cell_type": "code",
   "execution_count": 99,
   "metadata": {},
   "outputs": [],
   "source": [
    "c = country.pop(-2)"
   ]
  },
  {
   "cell_type": "code",
   "execution_count": 100,
   "metadata": {},
   "outputs": [],
   "source": [
    "d = country.pop(-2)"
   ]
  },
  {
   "cell_type": "code",
   "execution_count": 101,
   "metadata": {},
   "outputs": [],
   "source": [
    "country.insert(6,'British Virgin Islands')\n",
    "country.insert(17,'Montserrat')\n",
    "country.insert(19,'St. Barthelemy')\n",
    "country.insert(-1,'Turks And Caicos')"
   ]
  },
  {
   "cell_type": "code",
   "execution_count": 102,
   "metadata": {},
   "outputs": [],
   "source": [
    "abrv_counarea = list(soup.find_all(text=lambda text: text and \"Area\" in text))"
   ]
  },
  {
   "cell_type": "code",
   "execution_count": 103,
   "metadata": {},
   "outputs": [],
   "source": [
    "cap = list(soup.find_all(text=lambda text: text and \"City\" in text))"
   ]
  },
  {
   "cell_type": "code",
   "execution_count": 104,
   "metadata": {},
   "outputs": [],
   "source": [
    "inter_1 = list(soup.find_all(text=lambda text: text and \"Internet users\" in text))"
   ]
  },
  {
   "cell_type": "code",
   "execution_count": 105,
   "metadata": {},
   "outputs": [],
   "source": [
    "inter_1 = inter_1[1:]"
   ]
  },
  {
   "cell_type": "code",
   "execution_count": 106,
   "metadata": {},
   "outputs": [],
   "source": [
    "inter_1.insert(8,'3,696,765')\n",
    "inter_1.insert(-2,'942,713')\n",
    "inter_1.insert(-6,'109,370')"
   ]
  },
  {
   "cell_type": "code",
   "execution_count": 107,
   "metadata": {},
   "outputs": [],
   "source": [
    "face = list(soup.find_all(text=lambda text: text and \"Facebook\" in text))"
   ]
  },
  {
   "cell_type": "code",
   "execution_count": 108,
   "metadata": {},
   "outputs": [],
   "source": [
    "face = face[1:29]"
   ]
  },
  {
   "cell_type": "code",
   "execution_count": 109,
   "metadata": {},
   "outputs": [],
   "source": [
    "caribb_stats = pd.DataFrame({'country':country,'cap':cap,'abrv':abrv_counarea,'face':face,'internet':inter_1})"
   ]
  },
  {
   "cell_type": "code",
   "execution_count": 110,
   "metadata": {},
   "outputs": [],
   "source": [
    "caribb_stats['Country'] = caribb_stats['country'].str.split('<').str[0]"
   ]
  },
  {
   "cell_type": "code",
   "execution_count": 111,
   "metadata": {},
   "outputs": [],
   "source": [
    "caribb_stats['Country'] = caribb_stats['Country'].str.replace('\\r\\n',' ')"
   ]
  },
  {
   "cell_type": "code",
   "execution_count": 112,
   "metadata": {},
   "outputs": [],
   "source": [
    "caribb_stats['Capital'] = caribb_stats['cap'].str.split().str[2]"
   ]
  },
  {
   "cell_type": "code",
   "execution_count": 113,
   "metadata": {},
   "outputs": [],
   "source": [
    "caribb_stats['Capital'][0] = 'The Valley'\n",
    "caribb_stats['Capital'][1] = 'Saint Johns'\n",
    "caribb_stats['Capital'][6] = 'Raod Town'\n",
    "caribb_stats['Capital'][7] = 'George Town'\n",
    "caribb_stats['Capital'][11] = 'Saint Domingo'\n",
    "caribb_stats['Capital'][12] = 'Saint George'\n",
    "caribb_stats['Capital'][18] = 'San Juan'"
   ]
  },
  {
   "cell_type": "code",
   "execution_count": 114,
   "metadata": {},
   "outputs": [],
   "source": [
    "caribb_stats['Population'] = caribb_stats['abrv'].str.split().str[2]"
   ]
  },
  {
   "cell_type": "code",
   "execution_count": 115,
   "metadata": {},
   "outputs": [],
   "source": [
    "caribb_stats['Abrv'] = caribb_stats['abrv'].str.split().str[0]\n",
    "caribb_stats['Facebook_users'] = caribb_stats['face'].str.split().str[0]"
   ]
  },
  {
   "cell_type": "code",
   "execution_count": 116,
   "metadata": {},
   "outputs": [],
   "source": [
    "caribb_stats['Facebook_users'][8] = '0'"
   ]
  },
  {
   "cell_type": "code",
   "execution_count": 117,
   "metadata": {},
   "outputs": [],
   "source": [
    "caribb_stats['Internet_users'] = caribb_stats['internet'].str.split().str[0]"
   ]
  },
  {
   "cell_type": "code",
   "execution_count": 118,
   "metadata": {},
   "outputs": [],
   "source": [
    "caribb_stats['Internet_users'] = caribb_stats['Internet_users'].str.replace(',','').astype(int)"
   ]
  },
  {
   "cell_type": "code",
   "execution_count": 119,
   "metadata": {},
   "outputs": [],
   "source": [
    "caribb_stats['Facebook_users'] = caribb_stats['Facebook_users'].str.replace(',','').astype(int)"
   ]
  },
  {
   "cell_type": "code",
   "execution_count": 120,
   "metadata": {},
   "outputs": [],
   "source": [
    "caribb_stats['Population'] = caribb_stats['Population'].str.replace(',','').astype(int)"
   ]
  },
  {
   "cell_type": "code",
   "execution_count": 121,
   "metadata": {},
   "outputs": [],
   "source": [
    "caribb_stats= caribb_stats.drop(['cap','country','abrv','face','internet'],axis=1)\n"
   ]
  },
  {
   "cell_type": "code",
   "execution_count": 122,
   "metadata": {},
   "outputs": [],
   "source": [
    "caribb_stats.to_csv('M:/caribb_stats.csv',index=None)"
   ]
  },
  {
   "cell_type": "markdown",
   "metadata": {},
   "source": [
    "**Asia**"
   ]
  },
  {
   "cell_type": "code",
   "execution_count": 123,
   "metadata": {},
   "outputs": [],
   "source": [
    "response1 = requests.get(\"https://www.internetworldstats.com/asia.htm\")\n",
    "soup = BeautifulSoup(response1.content,'html.parser')"
   ]
  },
  {
   "cell_type": "code",
   "execution_count": 124,
   "metadata": {},
   "outputs": [],
   "source": [
    "urls = []\n",
    "\n",
    "for h in soup.find_all('tr'):\n",
    "    urls.append(h.find_all('a'))"
   ]
  },
  {
   "cell_type": "code",
   "execution_count": 125,
   "metadata": {},
   "outputs": [],
   "source": [
    "str_w = urls[3][5:41]"
   ]
  },
  {
   "cell_type": "code",
   "execution_count": 126,
   "metadata": {},
   "outputs": [],
   "source": [
    "country = []\n",
    "\n",
    "for e in str_w:\n",
    "    country.append(str(e).split('>')[2])  "
   ]
  },
  {
   "cell_type": "code",
   "execution_count": 127,
   "metadata": {},
   "outputs": [],
   "source": [
    "a = country.pop(8)"
   ]
  },
  {
   "cell_type": "code",
   "execution_count": 128,
   "metadata": {},
   "outputs": [],
   "source": [
    "abrv_counarea = list(soup.find_all(text=lambda text: text and \"Area\" in text))"
   ]
  },
  {
   "cell_type": "code",
   "execution_count": 129,
   "metadata": {},
   "outputs": [],
   "source": [
    "abrv_counarea = abrv_counarea[1:]"
   ]
  },
  {
   "cell_type": "code",
   "execution_count": 130,
   "metadata": {},
   "outputs": [],
   "source": [
    "thailand = list(soup.find_all(text=lambda text: text and \"Country Size\" in text))"
   ]
  },
  {
   "cell_type": "code",
   "execution_count": 131,
   "metadata": {},
   "outputs": [
    {
     "data": {
      "text/plain": [
       "['TH -\\r\\n69,306,160 population (2019) - Country Size: 513,115 sq km']"
      ]
     },
     "execution_count": 131,
     "metadata": {},
     "output_type": "execute_result"
    }
   ],
   "source": [
    "thailand"
   ]
  },
  {
   "cell_type": "code",
   "execution_count": 132,
   "metadata": {},
   "outputs": [],
   "source": [
    "abrv_counarea.insert(30,'TH -\\r\\n69,306,160 population (2019) - Country Size: 513,115 sq km')"
   ]
  },
  {
   "cell_type": "code",
   "execution_count": 133,
   "metadata": {},
   "outputs": [],
   "source": [
    "abrv_counarea.insert(7,'CN - \\r\\n1,420,062,022(*) population (2019) - Area: 9,806,391 sq km')"
   ]
  },
  {
   "cell_type": "code",
   "execution_count": 134,
   "metadata": {},
   "outputs": [],
   "source": [
    "a = abrv_counarea.pop(8)"
   ]
  },
  {
   "cell_type": "code",
   "execution_count": 135,
   "metadata": {},
   "outputs": [],
   "source": [
    "cap = list(soup.find_all(text=lambda text: text and \"Cap\" in text))"
   ]
  },
  {
   "cell_type": "code",
   "execution_count": 136,
   "metadata": {},
   "outputs": [],
   "source": [
    "cap.insert(0,'Capital city: Kabul - Pop. 4,679,600 (2017) - Median age: 18.8 years')\n",
    "cap.insert(1,'Capital city: Yerevan - Pop. 1,075,800 (2017) - Median age: 35.1 years')"
   ]
  },
  {
   "cell_type": "code",
   "execution_count": 137,
   "metadata": {},
   "outputs": [],
   "source": [
    "a = cap.pop(2)"
   ]
  },
  {
   "cell_type": "code",
   "execution_count": 138,
   "metadata": {},
   "outputs": [],
   "source": [
    "b = cap.pop(2)"
   ]
  },
  {
   "cell_type": "code",
   "execution_count": 139,
   "metadata": {},
   "outputs": [],
   "source": [
    "inter_1 = list(soup.find_all(text=lambda text: text and \"Internet users\" in text))"
   ]
  },
  {
   "cell_type": "code",
   "execution_count": 140,
   "metadata": {},
   "outputs": [],
   "source": [
    "inter_1 = inter_1[1:]"
   ]
  },
  {
   "cell_type": "code",
   "execution_count": 141,
   "metadata": {},
   "outputs": [],
   "source": [
    "inter_1.insert(15,'47,353,649')"
   ]
  },
  {
   "cell_type": "code",
   "execution_count": 142,
   "metadata": {},
   "outputs": [],
   "source": [
    "face = list(soup.find_all(text=lambda text: text and \"Facebook\" in text))"
   ]
  },
  {
   "cell_type": "code",
   "execution_count": 143,
   "metadata": {},
   "outputs": [],
   "source": [
    "face = face[3:38]"
   ]
  },
  {
   "cell_type": "code",
   "execution_count": 144,
   "metadata": {},
   "outputs": [],
   "source": [
    "asia_stats = pd.DataFrame({'country':country,'cap':cap,'abrv':abrv_counarea,'face':face,'internet':inter_1})\n"
   ]
  },
  {
   "cell_type": "code",
   "execution_count": 145,
   "metadata": {},
   "outputs": [],
   "source": [
    "asia_stats['Country'] = asia_stats['country'].str.split('<').str[0]"
   ]
  },
  {
   "cell_type": "code",
   "execution_count": 146,
   "metadata": {},
   "outputs": [],
   "source": [
    "asia_stats['Country'] = asia_stats['Country'].str.replace('\\r\\n',' ')"
   ]
  },
  {
   "cell_type": "code",
   "execution_count": 147,
   "metadata": {},
   "outputs": [],
   "source": [
    "asia_stats['Country'][14] = 'North Korea'\n",
    "asia_stats['Country'][15] = 'South Korea'"
   ]
  },
  {
   "cell_type": "code",
   "execution_count": 148,
   "metadata": {},
   "outputs": [],
   "source": [
    "asia_stats['Capital'] = asia_stats['cap'].str.split().str[2]"
   ]
  },
  {
   "cell_type": "code",
   "execution_count": 149,
   "metadata": {},
   "outputs": [],
   "source": [
    "asia_stats['Capital'][5] = 'Bandar Seri Begawan'\n",
    "asia_stats['Capital'][10] = 'New Delhi'"
   ]
  },
  {
   "cell_type": "code",
   "execution_count": 150,
   "metadata": {},
   "outputs": [],
   "source": [
    "asia_stats['Abrv'] = asia_stats['abrv'].str.split().str[0]"
   ]
  },
  {
   "cell_type": "code",
   "execution_count": 151,
   "metadata": {},
   "outputs": [],
   "source": [
    "asia_stats['Population'] = asia_stats['abrv'].str.split().str[2]"
   ]
  },
  {
   "cell_type": "code",
   "execution_count": 152,
   "metadata": {},
   "outputs": [],
   "source": [
    "asia_stats['Population'][7] = '1,420,062,022' "
   ]
  },
  {
   "cell_type": "code",
   "execution_count": 153,
   "metadata": {},
   "outputs": [],
   "source": [
    "asia_stats['Facebook_users'] = asia_stats['face'].str.split().str[0]"
   ]
  },
  {
   "cell_type": "code",
   "execution_count": 154,
   "metadata": {},
   "outputs": [],
   "source": [
    "asia_stats['Internet_users'] = asia_stats['internet'].str.split().str[0]"
   ]
  },
  {
   "cell_type": "code",
   "execution_count": 155,
   "metadata": {},
   "outputs": [],
   "source": [
    "asia_stats['Internet_users'] = asia_stats['Internet_users'].str.replace(',','').astype(int)"
   ]
  },
  {
   "cell_type": "code",
   "execution_count": 156,
   "metadata": {},
   "outputs": [],
   "source": [
    "asia_stats['Facebook_users'] = asia_stats['Facebook_users'].str.replace(',','').astype(int)"
   ]
  },
  {
   "cell_type": "code",
   "execution_count": 157,
   "metadata": {},
   "outputs": [],
   "source": [
    "asia_stats['Population'] = asia_stats['Population'].astype(str).str.replace(',','').astype(int)"
   ]
  },
  {
   "cell_type": "code",
   "execution_count": 158,
   "metadata": {},
   "outputs": [],
   "source": [
    "asia_stats = asia_stats.drop(['cap','country','abrv','face','internet'],axis=1)\n"
   ]
  },
  {
   "cell_type": "code",
   "execution_count": 159,
   "metadata": {},
   "outputs": [],
   "source": [
    "asia_stats.to_csv('M:/asia_stats.csv',index=None)"
   ]
  },
  {
   "cell_type": "markdown",
   "metadata": {},
   "source": [
    "**Europe Union**"
   ]
  },
  {
   "cell_type": "code",
   "execution_count": 160,
   "metadata": {},
   "outputs": [],
   "source": [
    "response1 = requests.get(\"https://www.internetworldstats.com/europa.htm\")\n",
    "soup = BeautifulSoup(response1.content,'html.parser')"
   ]
  },
  {
   "cell_type": "code",
   "execution_count": 161,
   "metadata": {},
   "outputs": [],
   "source": [
    "urls = []\n",
    "\n",
    "for h in soup.find_all('tr'):\n",
    "    urls.append(h.find_all('a'))"
   ]
  },
  {
   "cell_type": "code",
   "execution_count": 162,
   "metadata": {},
   "outputs": [],
   "source": [
    "str_w = urls[4][7:37]"
   ]
  },
  {
   "cell_type": "code",
   "execution_count": 163,
   "metadata": {},
   "outputs": [],
   "source": [
    "country = []\n",
    "\n",
    "for e in str_w:\n",
    "    country.append(str(e).split('>')[2])  "
   ]
  },
  {
   "cell_type": "code",
   "execution_count": 164,
   "metadata": {},
   "outputs": [],
   "source": [
    "a = country.pop(8)"
   ]
  },
  {
   "cell_type": "code",
   "execution_count": 165,
   "metadata": {},
   "outputs": [],
   "source": [
    "b = country.pop(8)"
   ]
  },
  {
   "cell_type": "code",
   "execution_count": 166,
   "metadata": {},
   "outputs": [],
   "source": [
    "abrv_counarea = list(soup.find_all(text=lambda text: text and \"Area\" in text))"
   ]
  },
  {
   "cell_type": "code",
   "execution_count": 167,
   "metadata": {},
   "outputs": [],
   "source": [
    "a = abrv_counarea.pop(8)"
   ]
  },
  {
   "cell_type": "code",
   "execution_count": 168,
   "metadata": {},
   "outputs": [],
   "source": [
    "b = abrv_counarea.pop(9)"
   ]
  },
  {
   "cell_type": "code",
   "execution_count": 169,
   "metadata": {},
   "outputs": [],
   "source": [
    "abrv_counarea.insert(8,'FI - 5,561,389 population (2019) - Country Area: 338,145 sq km')"
   ]
  },
  {
   "cell_type": "code",
   "execution_count": 170,
   "metadata": {},
   "outputs": [],
   "source": [
    "abrv_counarea.insert(10,'DE - 82,438,636 population (2019) - Country Area: 357,021 sq km')"
   ]
  },
  {
   "cell_type": "code",
   "execution_count": 171,
   "metadata": {},
   "outputs": [],
   "source": [
    "cap = list(soup.find_all(text=lambda text: text and \"Capital\" in text))"
   ]
  },
  {
   "cell_type": "code",
   "execution_count": 172,
   "metadata": {},
   "outputs": [],
   "source": [
    "inter_1 = list(soup.find_all(text=lambda text: text and \"Internet users\" in text))"
   ]
  },
  {
   "cell_type": "code",
   "execution_count": 173,
   "metadata": {},
   "outputs": [],
   "source": [
    "inter_1 = inter_1[1:]"
   ]
  },
  {
   "cell_type": "code",
   "execution_count": 174,
   "metadata": {},
   "outputs": [],
   "source": [
    "face = list(soup.find_all(text=lambda text: text and \"Facebook\" in text))"
   ]
  },
  {
   "cell_type": "code",
   "execution_count": 175,
   "metadata": {},
   "outputs": [],
   "source": [
    "face = face[1:29]"
   ]
  },
  {
   "cell_type": "code",
   "execution_count": 176,
   "metadata": {},
   "outputs": [],
   "source": [
    "eu_stats = pd.DataFrame({'country':country,'cap':cap,'abrv':abrv_counarea,'face':face,'internet':inter_1})"
   ]
  },
  {
   "cell_type": "code",
   "execution_count": 177,
   "metadata": {},
   "outputs": [],
   "source": [
    "eu_stats['Country'] = eu_stats['country'].str.split('<').str[0]"
   ]
  },
  {
   "cell_type": "code",
   "execution_count": 178,
   "metadata": {},
   "outputs": [],
   "source": [
    "eu_stats['Country'] = eu_stats['Country'].str.replace('\\r\\n',' ')"
   ]
  },
  {
   "cell_type": "code",
   "execution_count": 179,
   "metadata": {},
   "outputs": [],
   "source": [
    "eu_stats['Capital'] = eu_stats['cap'].str.split().str[2]"
   ]
  },
  {
   "cell_type": "code",
   "execution_count": 180,
   "metadata": {},
   "outputs": [],
   "source": [
    "eu_stats['Abrv'] = eu_stats['abrv'].str.split().str[0]"
   ]
  },
  {
   "cell_type": "code",
   "execution_count": 181,
   "metadata": {},
   "outputs": [],
   "source": [
    "eu_stats['Population'] = eu_stats['abrv'].str.split().str[2]"
   ]
  },
  {
   "cell_type": "code",
   "execution_count": 182,
   "metadata": {},
   "outputs": [],
   "source": [
    "eu_stats['Facebook_users'] = eu_stats['face'].str.split().str[0]"
   ]
  },
  {
   "cell_type": "code",
   "execution_count": 183,
   "metadata": {},
   "outputs": [],
   "source": [
    "eu_stats['Internet_users'] = eu_stats['internet'].str.split().str[0]"
   ]
  },
  {
   "cell_type": "code",
   "execution_count": 184,
   "metadata": {},
   "outputs": [],
   "source": [
    "eu_stats['Internet_users'] = eu_stats['Internet_users'].str.replace(',','').astype(int)"
   ]
  },
  {
   "cell_type": "code",
   "execution_count": 185,
   "metadata": {},
   "outputs": [],
   "source": [
    "eu_stats['Facebook_users'] = eu_stats['Facebook_users'].str.replace(',','').astype(int)"
   ]
  },
  {
   "cell_type": "code",
   "execution_count": 186,
   "metadata": {},
   "outputs": [],
   "source": [
    "eu_stats['Population'] = eu_stats['Population'].str.replace(',','').astype(int)"
   ]
  },
  {
   "cell_type": "code",
   "execution_count": 187,
   "metadata": {},
   "outputs": [],
   "source": [
    "eu_stats = eu_stats.drop(['cap','country','abrv','face','internet'],axis=1)\n"
   ]
  },
  {
   "cell_type": "code",
   "execution_count": 188,
   "metadata": {},
   "outputs": [],
   "source": [
    "eu_stats.to_csv('M:/eu_stats.csv',index=None)"
   ]
  },
  {
   "cell_type": "markdown",
   "metadata": {},
   "source": [
    "**Eu future members**"
   ]
  },
  {
   "cell_type": "code",
   "execution_count": 189,
   "metadata": {},
   "outputs": [],
   "source": [
    "response1 = requests.get(\"https://www.internetworldstats.com/europa1.htm\")\n",
    "soup = BeautifulSoup(response1.content,'html.parser')"
   ]
  },
  {
   "cell_type": "code",
   "execution_count": 190,
   "metadata": {},
   "outputs": [],
   "source": [
    "country =['Macedonia','Montenegro','Serbia','Turkey','Turkey Cypriot']"
   ]
  },
  {
   "cell_type": "code",
   "execution_count": 191,
   "metadata": {},
   "outputs": [],
   "source": [
    "abrv_counarea = list(soup.find_all(text=lambda text: text and \"Area\" in text))"
   ]
  },
  {
   "cell_type": "code",
   "execution_count": 192,
   "metadata": {},
   "outputs": [],
   "source": [
    "turkey = list(soup.find_all(text=lambda text: text and \"size\" in text))"
   ]
  },
  {
   "cell_type": "code",
   "execution_count": 193,
   "metadata": {},
   "outputs": [
    {
     "data": {
      "text/plain": [
       "['TR -\\r\\n 81,916,817 population (2018) - Country size: 773,473 sq km']"
      ]
     },
     "execution_count": 193,
     "metadata": {},
     "output_type": "execute_result"
    }
   ],
   "source": [
    "turkey"
   ]
  },
  {
   "cell_type": "code",
   "execution_count": 194,
   "metadata": {},
   "outputs": [],
   "source": [
    "abrv_counarea.insert(3,'TR -\\r\\n 81,916,817 population (2018) - Country size: 773,473 sq km')"
   ]
  },
  {
   "cell_type": "code",
   "execution_count": 195,
   "metadata": {},
   "outputs": [],
   "source": [
    "cap = list(soup.find_all(text=lambda text: text and \"Capital\" in text))"
   ]
  },
  {
   "cell_type": "code",
   "execution_count": 196,
   "metadata": {},
   "outputs": [
    {
     "data": {
      "text/plain": [
       "['Capital city: Skopje - population 536,271\\r\\n (2012)',\n",
       " 'Capital City: Podgorica - population 185,937\\r\\n (2011)',\n",
       " 'Capital city: Belgrade - population 1,764,650\\r\\n (2017)',\n",
       " 'Capital\\r\\n city: Ankara - population 5,445,431\\r\\n (2017)',\n",
       " 'Capital City: Nicosia - GNI p.c.US$ 10,248 (2015), by\\r\\nPPP']"
      ]
     },
     "execution_count": 196,
     "metadata": {},
     "output_type": "execute_result"
    }
   ],
   "source": [
    "cap"
   ]
  },
  {
   "cell_type": "code",
   "execution_count": 197,
   "metadata": {},
   "outputs": [],
   "source": [
    "inter_1 = list(soup.find_all(text=lambda text: text and \"Internet users\" in text))"
   ]
  },
  {
   "cell_type": "code",
   "execution_count": 198,
   "metadata": {},
   "outputs": [],
   "source": [
    "inter_1.insert(0,'1,583,315 users in Dec/17, 75.9% penetration, per IWS.')"
   ]
  },
  {
   "cell_type": "code",
   "execution_count": 199,
   "metadata": {},
   "outputs": [],
   "source": [
    "inter_1.insert(3,'56,000,000 users in Dec/2017, 68.4% penetration, per IWS.')"
   ]
  },
  {
   "cell_type": "code",
   "execution_count": 200,
   "metadata": {},
   "outputs": [],
   "source": [
    "face = list(soup.find_all(text=lambda text: text and \"Facebook\" in text))"
   ]
  },
  {
   "cell_type": "code",
   "execution_count": 201,
   "metadata": {},
   "outputs": [
    {
     "data": {
      "text/plain": [
       "['1,000,000 Facebook users in Dec, 2017, 48.0% \\r\\npenetration.',\n",
       " '320,000 Facebook users in Dec/2017, 50.9% penetration\\r\\n rate.',\n",
       " '3,400,000 Facebook users in Dec/2017, 38.8% penetration\\r\\n rate.',\n",
       " '44,000,000 Facebook users in Dec/2017, 53.7% \\r\\npenetration.',\n",
       " 'Facebook Stats']"
      ]
     },
     "execution_count": 201,
     "metadata": {},
     "output_type": "execute_result"
    }
   ],
   "source": [
    "face"
   ]
  },
  {
   "cell_type": "code",
   "execution_count": 202,
   "metadata": {},
   "outputs": [],
   "source": [
    "eufut_stats = pd.DataFrame({'country':country,'cap':cap,'abrv':abrv_counarea,'face':face,'internet':inter_1})"
   ]
  },
  {
   "cell_type": "code",
   "execution_count": 203,
   "metadata": {},
   "outputs": [],
   "source": [
    "eufut_stats['Country'] = eufut_stats['country']"
   ]
  },
  {
   "cell_type": "code",
   "execution_count": 204,
   "metadata": {},
   "outputs": [],
   "source": [
    "eufut_stats['Capital'] = eufut_stats['cap'].str.split().str[2]"
   ]
  },
  {
   "cell_type": "code",
   "execution_count": 205,
   "metadata": {},
   "outputs": [],
   "source": [
    "eufut_stats['Abrv'] = eufut_stats['abrv'].str.split().str[0]"
   ]
  },
  {
   "cell_type": "code",
   "execution_count": 206,
   "metadata": {},
   "outputs": [],
   "source": [
    "eufut_stats['Population'] = eufut_stats['abrv'].str.split().str[2]"
   ]
  },
  {
   "cell_type": "code",
   "execution_count": 207,
   "metadata": {},
   "outputs": [],
   "source": [
    "eufut_stats['Facebook_users'] = eufut_stats['face'].str.split().str[0]"
   ]
  },
  {
   "cell_type": "code",
   "execution_count": 208,
   "metadata": {},
   "outputs": [],
   "source": [
    "eufut_stats['Facebook_users'][4] ='0'"
   ]
  },
  {
   "cell_type": "code",
   "execution_count": 209,
   "metadata": {},
   "outputs": [],
   "source": [
    "eufut_stats['Internet_users'] = eufut_stats['internet'].str.split().str[0]"
   ]
  },
  {
   "cell_type": "code",
   "execution_count": 210,
   "metadata": {},
   "outputs": [],
   "source": [
    "eufut_stats['Internet_users'][4] = '0'"
   ]
  },
  {
   "cell_type": "code",
   "execution_count": 211,
   "metadata": {},
   "outputs": [],
   "source": [
    "eufut_stats['Internet_users'] = eufut_stats['Internet_users'].str.replace(',','').astype(int)"
   ]
  },
  {
   "cell_type": "code",
   "execution_count": 212,
   "metadata": {},
   "outputs": [],
   "source": [
    "eufut_stats['Facebook_users'] = eufut_stats['Facebook_users'].str.replace(',','').astype(int)"
   ]
  },
  {
   "cell_type": "code",
   "execution_count": 213,
   "metadata": {},
   "outputs": [],
   "source": [
    "eufut_stats['Population'] = eufut_stats['Population'].str.replace(',','').astype(int)"
   ]
  },
  {
   "cell_type": "code",
   "execution_count": 214,
   "metadata": {},
   "outputs": [],
   "source": [
    "eufut_stats = eufut_stats.drop(['cap','country','abrv','face','internet'],axis=1)\n"
   ]
  },
  {
   "cell_type": "code",
   "execution_count": 215,
   "metadata": {},
   "outputs": [],
   "source": [
    "eufut_stats.to_csv('M:/eufut_stats.csv',index=None)"
   ]
  },
  {
   "cell_type": "markdown",
   "metadata": {},
   "source": [
    "**South pacific**"
   ]
  },
  {
   "cell_type": "code",
   "execution_count": 216,
   "metadata": {},
   "outputs": [],
   "source": [
    "response1 = requests.get(\"https://www.internetworldstats.com/pacific.htm\")\n",
    "soup = BeautifulSoup(response1.content,'html.parser')"
   ]
  },
  {
   "cell_type": "code",
   "execution_count": 217,
   "metadata": {},
   "outputs": [],
   "source": [
    "urls = []\n",
    "\n",
    "for h in soup.find_all('tr'):\n",
    "    urls.append(h.find_all('a'))"
   ]
  },
  {
   "cell_type": "code",
   "execution_count": 218,
   "metadata": {},
   "outputs": [],
   "source": [
    "str_w = urls[3][2:32]"
   ]
  },
  {
   "cell_type": "code",
   "execution_count": 219,
   "metadata": {},
   "outputs": [],
   "source": [
    "country = []\n",
    "\n",
    "for e in str_w:\n",
    "    country.append(str(e).split('>')[2])  "
   ]
  },
  {
   "cell_type": "code",
   "execution_count": 220,
   "metadata": {},
   "outputs": [],
   "source": [
    "a = country.pop(-6)"
   ]
  },
  {
   "cell_type": "code",
   "execution_count": 221,
   "metadata": {},
   "outputs": [],
   "source": [
    "b = country.pop(8)"
   ]
  },
  {
   "cell_type": "code",
   "execution_count": 222,
   "metadata": {},
   "outputs": [
    {
     "data": {
      "text/plain": [
       "28"
      ]
     },
     "execution_count": 222,
     "metadata": {},
     "output_type": "execute_result"
    }
   ],
   "source": [
    "len(country)"
   ]
  },
  {
   "cell_type": "code",
   "execution_count": 223,
   "metadata": {},
   "outputs": [],
   "source": [
    "abrv_counarea = list(soup.find_all(text=lambda text: text and \"Area\" in text))"
   ]
  },
  {
   "cell_type": "code",
   "execution_count": 224,
   "metadata": {},
   "outputs": [],
   "source": [
    "abrv_counarea =  abrv_counarea[1:]"
   ]
  },
  {
   "cell_type": "code",
   "execution_count": 225,
   "metadata": {},
   "outputs": [],
   "source": [
    "a = abrv_counarea .pop(-6)"
   ]
  },
  {
   "cell_type": "code",
   "execution_count": 226,
   "metadata": {},
   "outputs": [],
   "source": [
    "b = abrv_counarea .pop(-7)"
   ]
  },
  {
   "cell_type": "code",
   "execution_count": 227,
   "metadata": {},
   "outputs": [],
   "source": [
    "cap = list(soup.find_all(text=lambda text: text and \"City\" in text))"
   ]
  },
  {
   "cell_type": "code",
   "execution_count": 228,
   "metadata": {},
   "outputs": [],
   "source": [
    "a = cap.pop(-6)"
   ]
  },
  {
   "cell_type": "code",
   "execution_count": 229,
   "metadata": {},
   "outputs": [],
   "source": [
    "b = cap.pop(-7)"
   ]
  },
  {
   "cell_type": "code",
   "execution_count": 230,
   "metadata": {},
   "outputs": [],
   "source": [
    "inter_1 = list(soup.find_all(text=lambda text: text and \"Internet users\" in text))"
   ]
  },
  {
   "cell_type": "code",
   "execution_count": 231,
   "metadata": {},
   "outputs": [],
   "source": [
    "inter_1 = inter_1[1:]"
   ]
  },
  {
   "cell_type": "code",
   "execution_count": 232,
   "metadata": {},
   "outputs": [],
   "source": [
    "inter_1.insert(2,'21,711,706 users in Dec, 2018, 87.8% penetration, per ITU')"
   ]
  },
  {
   "cell_type": "code",
   "execution_count": 233,
   "metadata": {},
   "outputs": [],
   "source": [
    "face = list(soup.find_all(text=lambda text: text and \"Facebook\" in text))"
   ]
  },
  {
   "cell_type": "code",
   "execution_count": 234,
   "metadata": {},
   "outputs": [],
   "source": [
    "face = face[2:32]"
   ]
  },
  {
   "cell_type": "code",
   "execution_count": 235,
   "metadata": {},
   "outputs": [],
   "source": [
    "a = face.pop(-6)"
   ]
  },
  {
   "cell_type": "code",
   "execution_count": 236,
   "metadata": {},
   "outputs": [],
   "source": [
    "b = face.pop(-7)"
   ]
  },
  {
   "cell_type": "code",
   "execution_count": 237,
   "metadata": {},
   "outputs": [],
   "source": [
    "south_stats = pd.DataFrame({'country':country,'cap':cap,'abrv':abrv_counarea,'face':face,'internet':inter_1})"
   ]
  },
  {
   "cell_type": "code",
   "execution_count": 238,
   "metadata": {},
   "outputs": [],
   "source": [
    "south_stats['Country'] = south_stats['country'].str.split('<').str[0]"
   ]
  },
  {
   "cell_type": "code",
   "execution_count": 239,
   "metadata": {},
   "outputs": [],
   "source": [
    "south_stats['Country'] = south_stats['Country'].str.replace('\\r\\n',' ')"
   ]
  },
  {
   "cell_type": "code",
   "execution_count": 240,
   "metadata": {},
   "outputs": [],
   "source": [
    "south_stats['Country'][0] = 'American Samoa'\n",
    "south_stats['Country'][7] = 'French Polynesia'\n",
    "south_stats['Country'][17] = 'Northern Mariana'\n",
    "south_stats['Country'][27] = 'Wallis And Futuna'"
   ]
  },
  {
   "cell_type": "code",
   "execution_count": 241,
   "metadata": {},
   "outputs": [],
   "source": [
    "south_stats['Capital'] = south_stats['cap'].str.split().str[2]"
   ]
  },
  {
   "cell_type": "code",
   "execution_count": 242,
   "metadata": {},
   "outputs": [],
   "source": [
    "south_stats['Capital'][19] = 'Port Moserby'"
   ]
  },
  {
   "cell_type": "code",
   "execution_count": 243,
   "metadata": {},
   "outputs": [],
   "source": [
    "south_stats['Abrv'] = south_stats['abrv'].str.split().str[0]"
   ]
  },
  {
   "cell_type": "code",
   "execution_count": 244,
   "metadata": {},
   "outputs": [],
   "source": [
    "south_stats['Population'] = south_stats['abrv'].str.split().str[2]"
   ]
  },
  {
   "cell_type": "code",
   "execution_count": 245,
   "metadata": {},
   "outputs": [],
   "source": [
    "south_stats['Facebook_users'] = south_stats['face'].str.split().str[0]"
   ]
  },
  {
   "cell_type": "code",
   "execution_count": 246,
   "metadata": {},
   "outputs": [],
   "source": [
    "south_stats['Internet_users'] = south_stats['internet'].str.split().str[0]"
   ]
  },
  {
   "cell_type": "code",
   "execution_count": 247,
   "metadata": {},
   "outputs": [],
   "source": [
    "south_stats['Internet_users'] = south_stats['Internet_users'].str.replace(',','').astype(int)\n",
    "south_stats['Facebook_users'] = south_stats['Facebook_users'].str.replace(',','').astype(int)\n",
    "south_stats['Population'] = south_stats['Population'].str.replace(',','').astype(int)"
   ]
  },
  {
   "cell_type": "code",
   "execution_count": 248,
   "metadata": {},
   "outputs": [],
   "source": [
    "south_stats = south_stats.drop(['cap','country','abrv','face','internet'],axis=1)\n"
   ]
  },
  {
   "cell_type": "code",
   "execution_count": 249,
   "metadata": {},
   "outputs": [],
   "source": [
    "south_stats.to_csv('M:/south_stats.csv',index=None)"
   ]
  },
  {
   "cell_type": "markdown",
   "metadata": {},
   "source": [
    "**Middle east**"
   ]
  },
  {
   "cell_type": "code",
   "execution_count": 250,
   "metadata": {},
   "outputs": [],
   "source": [
    "response1 = requests.get(\"https://www.internetworldstats.com/middle.htm\")\n",
    "soup = BeautifulSoup(response1.content,'html.parser')"
   ]
  },
  {
   "cell_type": "code",
   "execution_count": 251,
   "metadata": {},
   "outputs": [],
   "source": [
    "urls = []\n",
    "\n",
    "for h in soup.find_all('tr'):\n",
    "    urls.append(h.find_all('a'))"
   ]
  },
  {
   "cell_type": "code",
   "execution_count": 252,
   "metadata": {},
   "outputs": [],
   "source": [
    "str_w = urls[4][3:18]"
   ]
  },
  {
   "cell_type": "code",
   "execution_count": 253,
   "metadata": {},
   "outputs": [],
   "source": [
    "#country = []\n",
    "\n",
    "#for e in str_w:\n",
    "    #country.append(str(e).split('>')[2])  \n"
   ]
  },
  {
   "cell_type": "code",
   "execution_count": 254,
   "metadata": {},
   "outputs": [],
   "source": [
    "abrv_counarea = list(soup.find_all(text=lambda text: text and \"size\" in text))"
   ]
  },
  {
   "cell_type": "code",
   "execution_count": 255,
   "metadata": {},
   "outputs": [],
   "source": [
    "cap = list(soup.find_all(text=re.compile(\"^Capital\")))"
   ]
  },
  {
   "cell_type": "code",
   "execution_count": 256,
   "metadata": {},
   "outputs": [],
   "source": [
    "cap.insert(8,'Capital\\r\\n City: no capital ')"
   ]
  },
  {
   "cell_type": "code",
   "execution_count": 257,
   "metadata": {},
   "outputs": [],
   "source": [
    "inter_1 = list(soup.find_all(text=lambda text: text and \"Internet users\" in text))"
   ]
  },
  {
   "cell_type": "code",
   "execution_count": 258,
   "metadata": {},
   "outputs": [],
   "source": [
    "face = list(soup.find_all(text=lambda text: text and \"Facebook\" in text))"
   ]
  },
  {
   "cell_type": "code",
   "execution_count": 259,
   "metadata": {},
   "outputs": [],
   "source": [
    "face = face[1:15]"
   ]
  },
  {
   "cell_type": "code",
   "execution_count": 260,
   "metadata": {},
   "outputs": [],
   "source": [
    "inter_1 = inter_1[1:]"
   ]
  },
  {
   "cell_type": "code",
   "execution_count": 261,
   "metadata": {},
   "outputs": [],
   "source": [
    "country = ['Bahrain',\n",
    "         'Iran','Iraq'\n",
    "         'Israel',\n",
    "         'Jordan',\n",
    "         'Kuwait',\n",
    "         'Lebanon',\n",
    "         'Oman',\n",
    "         'Palestine',\n",
    "         'Qatar',\n",
    "         'Saudi Arabia',\n",
    "         'Syria',\n",
    "         'Turkey',\n",
    "         'United Arab',\n",
    "         'Yemen']"
   ]
  },
  {
   "cell_type": "code",
   "execution_count": 262,
   "metadata": {},
   "outputs": [],
   "source": [
    "abrv_counarea.insert(4,'JO - 10,069,794 population (2019) - Country Size: 89,342 sq km')"
   ]
  },
  {
   "cell_type": "code",
   "execution_count": 263,
   "metadata": {},
   "outputs": [],
   "source": [
    "ms_stats = pd.DataFrame({'country':country,'cap':cap,'abrv':abrv_counarea,'face':face,'internet':inter_1})"
   ]
  },
  {
   "cell_type": "code",
   "execution_count": 264,
   "metadata": {},
   "outputs": [],
   "source": [
    "ms_stats['Country'] = country"
   ]
  },
  {
   "cell_type": "code",
   "execution_count": 265,
   "metadata": {},
   "outputs": [],
   "source": [
    "ms_stats['Capital'] = ms_stats['cap'].str.split().str[2]"
   ]
  },
  {
   "cell_type": "code",
   "execution_count": 266,
   "metadata": {},
   "outputs": [],
   "source": [
    "ms_stats['Abrv'] = ms_stats['abrv'].str.split().str[0]"
   ]
  },
  {
   "cell_type": "code",
   "execution_count": 267,
   "metadata": {},
   "outputs": [],
   "source": [
    "ms_stats['Population'] = ms_stats['abrv'].str.split().str[2]"
   ]
  },
  {
   "cell_type": "code",
   "execution_count": 268,
   "metadata": {},
   "outputs": [],
   "source": [
    "ms_stats['Facebook_users'] = ms_stats['face'].str.split().str[0]"
   ]
  },
  {
   "cell_type": "code",
   "execution_count": 269,
   "metadata": {},
   "outputs": [],
   "source": [
    "ms_stats['Internet_users'] = ms_stats['internet'].str.split().str[0]"
   ]
  },
  {
   "cell_type": "code",
   "execution_count": 270,
   "metadata": {},
   "outputs": [],
   "source": [
    "ms_stats['Internet_users'] = ms_stats['Internet_users'].str.replace(',','').astype(int)"
   ]
  },
  {
   "cell_type": "code",
   "execution_count": 271,
   "metadata": {},
   "outputs": [],
   "source": [
    "ms_stats['Facebook_users'] = ms_stats['Facebook_users'].str.replace(',','').astype(int)"
   ]
  },
  {
   "cell_type": "code",
   "execution_count": 272,
   "metadata": {},
   "outputs": [],
   "source": [
    "ms_stats['Population'] = ms_stats['Population'].str.replace(',','').astype(int)"
   ]
  },
  {
   "cell_type": "code",
   "execution_count": 273,
   "metadata": {},
   "outputs": [],
   "source": [
    "ms_stats = ms_stats.drop(['cap','country','abrv','face','internet'],axis=1)"
   ]
  },
  {
   "cell_type": "code",
   "execution_count": 274,
   "metadata": {},
   "outputs": [],
   "source": [
    "ms_stats.to_csv('M:/ms_stats.csv',index=None)"
   ]
  },
  {
   "cell_type": "markdown",
   "metadata": {},
   "source": [
    "**South america**"
   ]
  },
  {
   "cell_type": "code",
   "execution_count": 275,
   "metadata": {},
   "outputs": [],
   "source": [
    "response1 = requests.get(\"https://www.internetworldstats.com/south.htm\")\n",
    "soup = BeautifulSoup(response1.content,'html.parser')"
   ]
  },
  {
   "cell_type": "code",
   "execution_count": 276,
   "metadata": {},
   "outputs": [],
   "source": [
    "urls = []\n",
    "\n",
    "for h in soup.find_all('tr'):\n",
    "    urls.append(h.find_all('a'))"
   ]
  },
  {
   "cell_type": "code",
   "execution_count": 277,
   "metadata": {},
   "outputs": [],
   "source": [
    "str_w = urls[4][3:18]"
   ]
  },
  {
   "cell_type": "code",
   "execution_count": 278,
   "metadata": {},
   "outputs": [],
   "source": [
    "country = []\n",
    "\n",
    "for e in str_w:\n",
    "    country.append(str(e).split('>')[2])  "
   ]
  },
  {
   "cell_type": "code",
   "execution_count": 279,
   "metadata": {},
   "outputs": [],
   "source": [
    "a = country.pop(-6)"
   ]
  },
  {
   "cell_type": "code",
   "execution_count": 280,
   "metadata": {},
   "outputs": [],
   "source": [
    "b = country.pop(-6)"
   ]
  },
  {
   "cell_type": "code",
   "execution_count": 281,
   "metadata": {},
   "outputs": [],
   "source": [
    "country.insert(6,'Falkland Islands')"
   ]
  },
  {
   "cell_type": "code",
   "execution_count": 282,
   "metadata": {},
   "outputs": [],
   "source": [
    "abrv_counarea = list(soup.find_all(text=lambda text: text and \"Area\" in text))"
   ]
  },
  {
   "cell_type": "code",
   "execution_count": 283,
   "metadata": {},
   "outputs": [],
   "source": [
    "abrv_counarea = abrv_counarea[1:]"
   ]
  },
  {
   "cell_type": "code",
   "execution_count": 284,
   "metadata": {},
   "outputs": [],
   "source": [
    "cap = ['Buenos Aires','La Paz',\n",
    "       'Brasilia','Santiago','Bogotá',\n",
    "       'Quito','Stanley','Cayenne','Georgetown',\n",
    "       'Asuncion','Lima','Paramaribo','Montevideo','Caracas']       "
   ]
  },
  {
   "cell_type": "code",
   "execution_count": 285,
   "metadata": {},
   "outputs": [],
   "source": [
    "inter_1 = list(soup.find_all(text=lambda text: text and \"Internet users\" in text))"
   ]
  },
  {
   "cell_type": "code",
   "execution_count": 286,
   "metadata": {},
   "outputs": [],
   "source": [
    "inter_1 = inter_1[1:]"
   ]
  },
  {
   "cell_type": "code",
   "execution_count": 287,
   "metadata": {},
   "outputs": [],
   "source": [
    "inter_1.insert(-4,'6,177,748 users in Dec, 2017, 89.6% penetration, per IWS.')"
   ]
  },
  {
   "cell_type": "code",
   "execution_count": 288,
   "metadata": {},
   "outputs": [],
   "source": [
    "face = list(soup.find_all(text=lambda text: text and \"Facebook\" in text))"
   ]
  },
  {
   "cell_type": "code",
   "execution_count": 289,
   "metadata": {},
   "outputs": [],
   "source": [
    "face = face[2:16]"
   ]
  },
  {
   "cell_type": "code",
   "execution_count": 290,
   "metadata": {},
   "outputs": [],
   "source": [
    "sa_stats = pd.DataFrame({'country':country,'cap':cap,'abrv':abrv_counarea,'face':face,'internet':inter_1})"
   ]
  },
  {
   "cell_type": "code",
   "execution_count": 291,
   "metadata": {},
   "outputs": [],
   "source": [
    "sa_stats['Country'] = sa_stats['country'].str.split('<').str[0]"
   ]
  },
  {
   "cell_type": "code",
   "execution_count": 292,
   "metadata": {},
   "outputs": [],
   "source": [
    "sa_stats['Country'] = sa_stats['Country'].str.replace('\\r\\n',' ')"
   ]
  },
  {
   "cell_type": "code",
   "execution_count": 293,
   "metadata": {},
   "outputs": [],
   "source": [
    "sa_stats['Capital'] = sa_stats['cap']"
   ]
  },
  {
   "cell_type": "code",
   "execution_count": 294,
   "metadata": {},
   "outputs": [],
   "source": [
    "sa_stats['Abrv'] = sa_stats['abrv'].str.split().str[0]"
   ]
  },
  {
   "cell_type": "code",
   "execution_count": 295,
   "metadata": {},
   "outputs": [],
   "source": [
    "sa_stats['Population'] = sa_stats['abrv'].str.split().str[2]"
   ]
  },
  {
   "cell_type": "code",
   "execution_count": 296,
   "metadata": {},
   "outputs": [],
   "source": [
    "sa_stats['Facebook_users'] = sa_stats['face'].str.split().str[0]"
   ]
  },
  {
   "cell_type": "code",
   "execution_count": 297,
   "metadata": {},
   "outputs": [],
   "source": [
    "sa_stats['Internet_users'] = sa_stats['internet'].str.split().str[0]"
   ]
  },
  {
   "cell_type": "code",
   "execution_count": 298,
   "metadata": {},
   "outputs": [],
   "source": [
    "sa_stats['Abrv'][4] = 'CO'\n",
    "sa_stats['Population'][4] = '49,464,683'"
   ]
  },
  {
   "cell_type": "code",
   "execution_count": 299,
   "metadata": {},
   "outputs": [],
   "source": [
    "sa_stats['Internet_users'] = sa_stats['Internet_users'].str.replace(',','').astype(int)\n",
    "sa_stats['Facebook_users'] = sa_stats['Facebook_users'].str.replace(',','').astype(int)\n",
    "sa_stats['Population'] = sa_stats['Population'].str.replace(',','').astype(int)"
   ]
  },
  {
   "cell_type": "code",
   "execution_count": 300,
   "metadata": {},
   "outputs": [],
   "source": [
    "sa_stats = sa_stats.drop(['cap','country','abrv','face','internet'],axis=1)"
   ]
  },
  {
   "cell_type": "code",
   "execution_count": 301,
   "metadata": {},
   "outputs": [],
   "source": [
    "sa_stats.to_csv('M:/sa_stats.csv',index=None)"
   ]
  },
  {
   "cell_type": "code",
   "execution_count": null,
   "metadata": {},
   "outputs": [],
   "source": []
  }
 ],
 "metadata": {
  "kernelspec": {
   "display_name": "Python 3",
   "language": "python",
   "name": "python3"
  },
  "language_info": {
   "codemirror_mode": {
    "name": "ipython",
    "version": 3
   },
   "file_extension": ".py",
   "mimetype": "text/x-python",
   "name": "python",
   "nbconvert_exporter": "python",
   "pygments_lexer": "ipython3",
   "version": "3.7.1"
  }
 },
 "nbformat": 4,
 "nbformat_minor": 2
}
